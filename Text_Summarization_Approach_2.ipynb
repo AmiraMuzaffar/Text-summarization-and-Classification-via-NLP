{
 "cells": [
  {
   "cell_type": "code",
   "execution_count": 4,
   "metadata": {},
   "outputs": [],
   "source": [
    "import numpy as np\n",
    "import pandas as pd\n",
    "import nltk\n",
    "from nltk.tokenize import sent_tokenize\n",
    "import re\n",
    "from nltk.corpus import stopwords\n",
    "from nltk.cluster.util import cosine_distance\n",
    "import networkx as nx\n",
    "import spacy\n",
    "from spacy.lang.en.stop_words import STOP_WORDS\n",
    "from string import punctuation"
   ]
  },
  {
   "cell_type": "code",
   "execution_count": 2,
   "metadata": {},
   "outputs": [
    {
     "name": "stdout",
     "output_type": "stream",
     "text": [
      "Collecting spacy\n",
      "  Downloading https://files.pythonhosted.org/packages/69/e7/a5afb4d74eed898cb3d4f2df0326a01aab43724bd293db6a373ccd78da48/spacy-3.0.3-cp37-cp37m-win_amd64.whl (11.6MB)\n",
      "Collecting cymem<2.1.0,>=2.0.2 (from spacy)\n",
      "  Downloading https://files.pythonhosted.org/packages/3f/7f/e4b81e6355e87c08a039cbc64c3044046ba4665a74e9b62246c71976a849/cymem-2.0.5-cp37-cp37m-win_amd64.whl\n",
      "Collecting pydantic<1.8.0,>=1.7.1 (from spacy)\n",
      "  Downloading https://files.pythonhosted.org/packages/03/95/f1c3455912b11e8497978e9a46f1ebe8548bc898b66044e21974acaa80a3/pydantic-1.7.3-cp37-cp37m-win_amd64.whl (1.7MB)\n",
      "Collecting catalogue<2.1.0,>=2.0.1 (from spacy)\n",
      "  Downloading https://files.pythonhosted.org/packages/48/5c/493a2f3bb0eac17b1d48129ecfd251f0520b6c89493e9fd0522f534a9e4a/catalogue-2.0.1-py3-none-any.whl\n",
      "Collecting pathy (from spacy)\n",
      "  Downloading https://files.pythonhosted.org/packages/a2/53/97dc0197cca9357369b3b71bf300896cf2d3604fa60ffaaf5cbc277de7de/pathy-0.4.0-py3-none-any.whl\n",
      "Collecting murmurhash<1.1.0,>=0.28.0 (from spacy)\n",
      "  Downloading https://files.pythonhosted.org/packages/c7/3a/dc5400c423a1b85d7d081326d1f391676c10bb690aeae0c211ae4843739c/murmurhash-1.0.5-cp37-cp37m-win_amd64.whl\n",
      "Collecting typer<0.4.0,>=0.3.0 (from spacy)\n",
      "  Downloading https://files.pythonhosted.org/packages/90/34/d138832f6945432c638f32137e6c79a3b682f06a63c488dcfaca6b166c64/typer-0.3.2-py3-none-any.whl\n",
      "Collecting blis<0.8.0,>=0.4.0 (from spacy)\n",
      "  Downloading https://files.pythonhosted.org/packages/7c/f3/2c18510d125d6af493120ca50fc8f2e3c21c9f58fb38d34c032f813dadcb/blis-0.7.4-cp37-cp37m-win_amd64.whl (6.5MB)\n",
      "Collecting typing-extensions>=3.7.4; python_version < \"3.8\" (from spacy)\n",
      "  Downloading https://files.pythonhosted.org/packages/60/7a/e881b5abb54db0e6e671ab088d079c57ce54e8a01a3ca443f561ccadb37e/typing_extensions-3.7.4.3-py3-none-any.whl\n",
      "Requirement already satisfied, skipping upgrade: numpy>=1.15.0 in c:\\users\\bot-pc\\anaconda3\\lib\\site-packages (from spacy) (1.16.5)\n",
      "Requirement already satisfied, skipping upgrade: setuptools in c:\\users\\bot-pc\\anaconda3\\lib\\site-packages (from spacy) (41.4.0)\n",
      "Collecting spacy-legacy<3.1.0,>=3.0.0 (from spacy)\n",
      "  Downloading https://files.pythonhosted.org/packages/65/d5/6c58fc97f3098775e46d8202bf248752e626a8096a0ae9d76aa7c485a09c/spacy_legacy-3.0.1-py2.py3-none-any.whl\n",
      "Requirement already satisfied, skipping upgrade: importlib-metadata>=0.20; python_version < \"3.8\" in c:\\users\\bot-pc\\anaconda3\\lib\\site-packages (from spacy) (0.23)\n",
      "Requirement already satisfied, skipping upgrade: requests<3.0.0,>=2.13.0 in c:\\users\\bot-pc\\anaconda3\\lib\\site-packages (from spacy) (2.22.0)\n",
      "Collecting packaging>=20.0 (from spacy)\n",
      "  Downloading https://files.pythonhosted.org/packages/3e/89/7ea760b4daa42653ece2380531c90f64788d979110a2ab51049d92f408af/packaging-20.9-py2.py3-none-any.whl (40kB)\n",
      "Collecting wasabi<1.1.0,>=0.8.1 (from spacy)\n",
      "  Downloading https://files.pythonhosted.org/packages/a6/1d/d281571b4c3b20fff183b485c6673c62878727119a849c7932651a8b5060/wasabi-0.8.2-py3-none-any.whl\n",
      "Requirement already satisfied, skipping upgrade: jinja2 in c:\\users\\bot-pc\\anaconda3\\lib\\site-packages (from spacy) (2.10.3)\n",
      "Collecting thinc<8.1.0,>=8.0.0 (from spacy)\n",
      "  Downloading https://files.pythonhosted.org/packages/52/9e/e11f8bd899d48c3f7279cbaca3a50b19ef74288fed5982765d3dcfdc39c7/thinc-8.0.1-cp37-cp37m-win_amd64.whl (1.0MB)\n",
      "Collecting preshed<3.1.0,>=3.0.2 (from spacy)\n",
      "  Downloading https://files.pythonhosted.org/packages/04/19/f9b58e2e1ed1e4f6cb883dc6e1eb0b27271aac93243db57ecc81b00d9a23/preshed-3.0.5-cp37-cp37m-win_amd64.whl (108kB)\n",
      "Collecting tqdm<5.0.0,>=4.38.0 (from spacy)\n",
      "  Downloading https://files.pythonhosted.org/packages/4e/8c/f1035bd24b0e352ddba7be320abc1603fc4c9976fcda6971ed287be59164/tqdm-4.58.0-py2.py3-none-any.whl (73kB)\n",
      "Collecting srsly<3.0.0,>=2.4.0 (from spacy)\n",
      "  Downloading https://files.pythonhosted.org/packages/00/83/418a921a3c90002be29fb8af6c8fe236dab4270491dfd82fab57177439ce/srsly-2.4.0-cp37-cp37m-win_amd64.whl (449kB)\n",
      "Collecting smart-open<4.0.0,>=2.2.0 (from pathy->spacy)\n",
      "  Downloading https://files.pythonhosted.org/packages/11/9a/ba2d5f67f25e8d5bbf2fcec7a99b1e38428e83cb715f64dd179ca43a11bb/smart_open-3.0.0.tar.gz (113kB)\n",
      "Collecting click<7.2.0,>=7.1.1 (from typer<0.4.0,>=0.3.0->spacy)\n",
      "  Downloading https://files.pythonhosted.org/packages/d2/3d/fa76db83bf75c4f8d338c2fd15c8d33fdd7ad23a9b5e57eb6c5de26b430e/click-7.1.2-py2.py3-none-any.whl (82kB)\n",
      "Requirement already satisfied, skipping upgrade: zipp>=0.5 in c:\\users\\bot-pc\\anaconda3\\lib\\site-packages (from importlib-metadata>=0.20; python_version < \"3.8\"->spacy) (0.6.0)\n",
      "Requirement already satisfied, skipping upgrade: idna<2.9,>=2.5 in c:\\users\\bot-pc\\anaconda3\\lib\\site-packages (from requests<3.0.0,>=2.13.0->spacy) (2.8)\n",
      "Requirement already satisfied, skipping upgrade: certifi>=2017.4.17 in c:\\users\\bot-pc\\anaconda3\\lib\\site-packages (from requests<3.0.0,>=2.13.0->spacy) (2019.9.11)\n",
      "Requirement already satisfied, skipping upgrade: chardet<3.1.0,>=3.0.2 in c:\\users\\bot-pc\\anaconda3\\lib\\site-packages (from requests<3.0.0,>=2.13.0->spacy) (3.0.4)\n",
      "Requirement already satisfied, skipping upgrade: urllib3!=1.25.0,!=1.25.1,<1.26,>=1.21.1 in c:\\users\\bot-pc\\anaconda3\\lib\\site-packages (from requests<3.0.0,>=2.13.0->spacy) (1.24.2)\n",
      "Requirement already satisfied, skipping upgrade: pyparsing>=2.0.2 in c:\\users\\bot-pc\\anaconda3\\lib\\site-packages (from packaging>=20.0->spacy) (2.4.2)\n",
      "Requirement already satisfied, skipping upgrade: MarkupSafe>=0.23 in c:\\users\\bot-pc\\anaconda3\\lib\\site-packages (from jinja2->spacy) (1.1.1)\n",
      "Requirement already satisfied, skipping upgrade: more-itertools in c:\\users\\bot-pc\\anaconda3\\lib\\site-packages (from zipp>=0.5->importlib-metadata>=0.20; python_version < \"3.8\"->spacy) (7.2.0)\n",
      "Building wheels for collected packages: smart-open\n",
      "  Building wheel for smart-open (setup.py): started\n",
      "  Building wheel for smart-open (setup.py): finished with status 'done'\n",
      "  Created wheel for smart-open: filename=smart_open-3.0.0-cp37-none-any.whl size=107103 sha256=4e2b68bfc59dadbb169b8543efc2943acc4cf141a4a36ac40ed20b58bd0bab71\n",
      "  Stored in directory: C:\\Users\\BOT-PC\\AppData\\Local\\pip\\Cache\\wheels\\18\\88\\7c\\f06dabd5e9cabe02d2269167bcacbbf9b47d0c0ff7d6ebcb78\n",
      "Successfully built smart-open\n",
      "Installing collected packages: cymem, pydantic, catalogue, click, typer, smart-open, pathy, murmurhash, blis, typing-extensions, spacy-legacy, packaging, wasabi, srsly, preshed, thinc, tqdm, spacy\n",
      "  Found existing installation: Click 7.0\n",
      "    Uninstalling Click-7.0:\n",
      "      Successfully uninstalled Click-7.0\n",
      "  Found existing installation: packaging 19.2\n",
      "    Uninstalling packaging-19.2:\n",
      "      Successfully uninstalled packaging-19.2\n",
      "  Found existing installation: tqdm 4.36.1\n",
      "    Uninstalling tqdm-4.36.1:\n",
      "      Successfully uninstalled tqdm-4.36.1\n",
      "Successfully installed blis-0.7.4 catalogue-2.0.1 click-7.1.2 cymem-2.0.5 murmurhash-1.0.5 packaging-20.9 pathy-0.4.0 preshed-3.0.5 pydantic-1.7.3 smart-open-3.0.0 spacy-3.0.3 spacy-legacy-3.0.1 srsly-2.4.0 thinc-8.0.1 tqdm-4.58.0 typer-0.3.2 typing-extensions-3.7.4.3 wasabi-0.8.2\n"
     ]
    }
   ],
   "source": [
    "!pip install -U spacy"
   ]
  },
  {
   "cell_type": "code",
   "execution_count": 3,
   "metadata": {},
   "outputs": [
    {
     "name": "stdout",
     "output_type": "stream",
     "text": [
      "Collecting en-core-web-sm==3.0.0 from https://github.com/explosion/spacy-models/releases/download/en_core_web_sm-3.0.0/en_core_web_sm-3.0.0-py3-none-any.whl#egg=en_core_web_sm==3.0.0\n",
      "  Downloading https://github.com/explosion/spacy-models/releases/download/en_core_web_sm-3.0.0/en_core_web_sm-3.0.0-py3-none-any.whl (13.7MB)\n",
      "Requirement already satisfied: spacy<3.1.0,>=3.0.0 in c:\\users\\bot-pc\\anaconda3\\lib\\site-packages (from en-core-web-sm==3.0.0) (3.0.3)\n",
      "Requirement already satisfied: jinja2 in c:\\users\\bot-pc\\anaconda3\\lib\\site-packages (from spacy<3.1.0,>=3.0.0->en-core-web-sm==3.0.0) (2.10.3)\n",
      "Requirement already satisfied: preshed<3.1.0,>=3.0.2 in c:\\users\\bot-pc\\anaconda3\\lib\\site-packages (from spacy<3.1.0,>=3.0.0->en-core-web-sm==3.0.0) (3.0.5)\n",
      "Requirement already satisfied: catalogue<2.1.0,>=2.0.1 in c:\\users\\bot-pc\\anaconda3\\lib\\site-packages (from spacy<3.1.0,>=3.0.0->en-core-web-sm==3.0.0) (2.0.1)\n",
      "Requirement already satisfied: pydantic<1.8.0,>=1.7.1 in c:\\users\\bot-pc\\anaconda3\\lib\\site-packages (from spacy<3.1.0,>=3.0.0->en-core-web-sm==3.0.0) (1.7.3)\n",
      "Requirement already satisfied: wasabi<1.1.0,>=0.8.1 in c:\\users\\bot-pc\\anaconda3\\lib\\site-packages (from spacy<3.1.0,>=3.0.0->en-core-web-sm==3.0.0) (0.8.2)\n",
      "Requirement already satisfied: pathy in c:\\users\\bot-pc\\anaconda3\\lib\\site-packages (from spacy<3.1.0,>=3.0.0->en-core-web-sm==3.0.0) (0.4.0)\n",
      "Requirement already satisfied: murmurhash<1.1.0,>=0.28.0 in c:\\users\\bot-pc\\anaconda3\\lib\\site-packages (from spacy<3.1.0,>=3.0.0->en-core-web-sm==3.0.0) (1.0.5)\n",
      "Requirement already satisfied: packaging>=20.0 in c:\\users\\bot-pc\\anaconda3\\lib\\site-packages (from spacy<3.1.0,>=3.0.0->en-core-web-sm==3.0.0) (20.9)\n",
      "Requirement already satisfied: requests<3.0.0,>=2.13.0 in c:\\users\\bot-pc\\anaconda3\\lib\\site-packages (from spacy<3.1.0,>=3.0.0->en-core-web-sm==3.0.0) (2.22.0)\n",
      "Requirement already satisfied: numpy>=1.15.0 in c:\\users\\bot-pc\\anaconda3\\lib\\site-packages (from spacy<3.1.0,>=3.0.0->en-core-web-sm==3.0.0) (1.16.5)\n",
      "Requirement already satisfied: typer<0.4.0,>=0.3.0 in c:\\users\\bot-pc\\anaconda3\\lib\\site-packages (from spacy<3.1.0,>=3.0.0->en-core-web-sm==3.0.0) (0.3.2)\n",
      "Requirement already satisfied: cymem<2.1.0,>=2.0.2 in c:\\users\\bot-pc\\anaconda3\\lib\\site-packages (from spacy<3.1.0,>=3.0.0->en-core-web-sm==3.0.0) (2.0.5)\n",
      "Requirement already satisfied: thinc<8.1.0,>=8.0.0 in c:\\users\\bot-pc\\anaconda3\\lib\\site-packages (from spacy<3.1.0,>=3.0.0->en-core-web-sm==3.0.0) (8.0.1)\n",
      "Requirement already satisfied: spacy-legacy<3.1.0,>=3.0.0 in c:\\users\\bot-pc\\anaconda3\\lib\\site-packages (from spacy<3.1.0,>=3.0.0->en-core-web-sm==3.0.0) (3.0.1)\n",
      "Requirement already satisfied: blis<0.8.0,>=0.4.0 in c:\\users\\bot-pc\\anaconda3\\lib\\site-packages (from spacy<3.1.0,>=3.0.0->en-core-web-sm==3.0.0) (0.7.4)\n",
      "Requirement already satisfied: tqdm<5.0.0,>=4.38.0 in c:\\users\\bot-pc\\anaconda3\\lib\\site-packages (from spacy<3.1.0,>=3.0.0->en-core-web-sm==3.0.0) (4.58.0)\n",
      "Requirement already satisfied: importlib-metadata>=0.20; python_version < \"3.8\" in c:\\users\\bot-pc\\anaconda3\\lib\\site-packages (from spacy<3.1.0,>=3.0.0->en-core-web-sm==3.0.0) (0.23)\n",
      "Requirement already satisfied: setuptools in c:\\users\\bot-pc\\anaconda3\\lib\\site-packages (from spacy<3.1.0,>=3.0.0->en-core-web-sm==3.0.0) (41.4.0)\n",
      "Requirement already satisfied: typing-extensions>=3.7.4; python_version < \"3.8\" in c:\\users\\bot-pc\\anaconda3\\lib\\site-packages (from spacy<3.1.0,>=3.0.0->en-core-web-sm==3.0.0) (3.7.4.3)\n",
      "Requirement already satisfied: srsly<3.0.0,>=2.4.0 in c:\\users\\bot-pc\\anaconda3\\lib\\site-packages (from spacy<3.1.0,>=3.0.0->en-core-web-sm==3.0.0) (2.4.0)\n",
      "Requirement already satisfied: MarkupSafe>=0.23 in c:\\users\\bot-pc\\anaconda3\\lib\\site-packages (from jinja2->spacy<3.1.0,>=3.0.0->en-core-web-sm==3.0.0) (1.1.1)\n",
      "Requirement already satisfied: smart-open<4.0.0,>=2.2.0 in c:\\users\\bot-pc\\anaconda3\\lib\\site-packages (from pathy->spacy<3.1.0,>=3.0.0->en-core-web-sm==3.0.0) (3.0.0)\n",
      "Requirement already satisfied: pyparsing>=2.0.2 in c:\\users\\bot-pc\\anaconda3\\lib\\site-packages (from packaging>=20.0->spacy<3.1.0,>=3.0.0->en-core-web-sm==3.0.0) (2.4.2)\n",
      "Requirement already satisfied: idna<2.9,>=2.5 in c:\\users\\bot-pc\\anaconda3\\lib\\site-packages (from requests<3.0.0,>=2.13.0->spacy<3.1.0,>=3.0.0->en-core-web-sm==3.0.0) (2.8)\n",
      "Requirement already satisfied: chardet<3.1.0,>=3.0.2 in c:\\users\\bot-pc\\anaconda3\\lib\\site-packages (from requests<3.0.0,>=2.13.0->spacy<3.1.0,>=3.0.0->en-core-web-sm==3.0.0) (3.0.4)\n",
      "Requirement already satisfied: certifi>=2017.4.17 in c:\\users\\bot-pc\\anaconda3\\lib\\site-packages (from requests<3.0.0,>=2.13.0->spacy<3.1.0,>=3.0.0->en-core-web-sm==3.0.0) (2019.9.11)\n",
      "Requirement already satisfied: urllib3!=1.25.0,!=1.25.1,<1.26,>=1.21.1 in c:\\users\\bot-pc\\anaconda3\\lib\\site-packages (from requests<3.0.0,>=2.13.0->spacy<3.1.0,>=3.0.0->en-core-web-sm==3.0.0) (1.24.2)\n",
      "Requirement already satisfied: click<7.2.0,>=7.1.1 in c:\\users\\bot-pc\\anaconda3\\lib\\site-packages (from typer<0.4.0,>=0.3.0->spacy<3.1.0,>=3.0.0->en-core-web-sm==3.0.0) (7.1.2)\n",
      "Requirement already satisfied: zipp>=0.5 in c:\\users\\bot-pc\\anaconda3\\lib\\site-packages (from importlib-metadata>=0.20; python_version < \"3.8\"->spacy<3.1.0,>=3.0.0->en-core-web-sm==3.0.0) (0.6.0)\n",
      "Requirement already satisfied: more-itertools in c:\\users\\bot-pc\\anaconda3\\lib\\site-packages (from zipp>=0.5->importlib-metadata>=0.20; python_version < \"3.8\"->spacy<3.1.0,>=3.0.0->en-core-web-sm==3.0.0) (7.2.0)\n",
      "Installing collected packages: en-core-web-sm\n",
      "Successfully installed en-core-web-sm-3.0.0\n",
      "[+] Download and installation successful\n",
      "You can now load the package via spacy.load('en_core_web_sm')\n"
     ]
    }
   ],
   "source": [
    "!python -m spacy download en_core_web_sm"
   ]
  },
  {
   "cell_type": "code",
   "execution_count": 5,
   "metadata": {},
   "outputs": [],
   "source": [
    "f = \"C:/Users/BOT-PC/Text Summarization Capstone Project/projectdatanew.xlsx\"\n",
    "\n",
    "file = pd.read_excel(f)\n",
    "data = file['new_strategy_extracted']"
   ]
  },
  {
   "cell_type": "code",
   "execution_count": 6,
   "metadata": {},
   "outputs": [],
   "source": [
    "stopwords = list(STOP_WORDS)"
   ]
  },
  {
   "cell_type": "code",
   "execution_count": 7,
   "metadata": {},
   "outputs": [],
   "source": [
    "nlp = spacy.load('en_core_web_sm')"
   ]
  },
  {
   "cell_type": "code",
   "execution_count": 10,
   "metadata": {},
   "outputs": [],
   "source": [
    "doc = nlp(data[0])"
   ]
  },
  {
   "cell_type": "code",
   "execution_count": 11,
   "metadata": {},
   "outputs": [
    {
     "name": "stdout",
     "output_type": "stream",
     "text": [
      "['The', 'Fund', 'seeks', 'to', 'track', 'the', 'investment', 'results', 'of', 'the', 'MSCI', 'Germany', 'Index', '(', 'the', '“', 'Underlying', 'Index', '”', ')', ',', 'which', 'consists', 'of', 'stocks', 'traded', 'primarily', 'on', 'the', 'Frankfurt', 'Stock', 'Exchange', '.', 'The', 'Underlying', 'Index', 'may', 'include', 'large-', ',', 'mid-', 'or', 'small', '-', 'capitalization', 'companies', '.', 'Components', 'of', 'the', 'Underlying', 'Index', 'primarily', 'include', 'consumer', 'discretionary', ',', 'financials', 'and', 'healthcare', 'companies', '.', 'The', 'components', 'of', 'the', 'Underlying', 'Index', ',', 'and', 'the', 'degree', 'to', 'which', 'these', 'components', 'represent', 'certain', 'industries', ',', 'are', 'likely', 'to', 'change', 'over', 'time', '.', '\\n', 'BFA', 'uses', 'a', '“', 'passive', '”', 'or', 'indexing', 'approach', 'to', 'try', 'to', 'achieve', 'the', 'Fund', '’s', 'investment', 'objective', '.', 'Unlike', 'many', 'investment', 'companies', ',', 'the', 'Fund', 'does', 'not', 'try', 'to', '“', 'beat', '”', 'the', 'index', 'it', 'tracks', 'and', 'does', 'not', 'seek', 'temporary', 'defensive', 'positions', 'when', 'markets', 'decline', 'or', 'appear', 'overvalued', '.', '\\n', 'Indexing', 'may', 'eliminate', 'the', 'chance', 'that', 'the', 'Fund', 'will', 'substantially', 'outperform', 'the', 'Underlying', 'Index', 'but', 'also', 'may', 'reduce', 'some', 'of', 'the', 'risks', 'of', 'active', 'management', ',', 'such', 'as', 'poor', 'security', 'selection', '.', 'Indexing', 'seeks', 'to', 'achieve', '\\n', 'lower', 'costs', 'and', 'better', 'after', '-', 'tax', 'performance', 'by', 'keeping', 'portfolio', 'turnover', 'low', 'in', 'comparison', 'to', 'actively', 'managed', 'investment', 'companies', '.', '\\n', 'BFA', 'uses', 'a', 'representative', 'sampling', 'indexing', 'strategy', 'to', 'manage', 'the', 'Fund', '.', '“', 'Representative', 'sampling', '”', 'is', 'an', 'indexing', 'strategy', 'that', 'involves', 'investing', 'in', 'a', 'representative', 'sample', 'of', 'securities', 'that', 'collectively', 'has', 'an', 'investment', 'profile', 'similar', 'to', 'that', 'of', 'an', 'applicable', 'underlying', 'index', '.', 'The', 'securities', 'selected', 'are', 'expected', 'to', 'have', ',', 'in', 'the', 'aggregate', ',', 'investment', 'characteristics', '(', 'based', 'on', 'factors', 'such', 'as', 'market', 'capitalization', 'and', 'industry', 'weightings', ')', ',', 'fundamental', 'characteristics', '(', 'such', 'as', 'return', 'variability', 'and', 'yield', ')', 'and', 'liquidity', 'measures', 'similar', 'to', 'those', 'of', 'an', 'applicable', 'underlying', 'index', '.', 'The', 'Fund', 'may', 'or', 'may', 'not', 'hold', 'all', 'of', 'the', 'securities', 'in', 'an', 'applicable', 'underlying', 'index', '.', '\\n', 'The', 'Fund', 'will', 'at', 'all', 'times', 'invest', 'at', 'least', '80', '%', 'of', 'its', 'assets', 'in', 'the', 'securities', 'of', 'its', 'Underlying', 'Index', 'and', 'in', 'depositary', 'receipts', 'representing', 'securities', 'in', 'its', 'Underlying', 'Index', '.', 'The', 'Fund', 'may', 'invest', 'the', 'remainder', 'of', 'its', 'assets', 'in', 'other', 'securities', ',', 'including', 'securities', 'not', 'in', 'the', 'Underlying', 'Index', ',', 'but', 'which', 'BFA', 'believes', 'will', 'help', 'the', 'Fund', 'track', 'the', 'Underlying', 'Index', ',', 'and', 'in', 'other', 'investments', ',', 'including', 'futures', 'contracts', ',', 'options', 'on', 'futures', 'contracts', ',', 'other', 'types', 'of', 'options', 'and', 'swaps', 'related', 'to', 'its', 'Underlying', 'Index', ',', 'as', 'well', 'as', 'cash', 'and', 'cash', 'equivalents', ',', 'including', 'shares', 'of', 'money', 'market', 'funds', 'advised', 'by', 'BFA', 'or', 'its', 'affiliates', '.', 'The', 'Fund', 'seeks', 'to', 'track', 'the', 'investment', 'results', 'of', 'the', 'Underlying', 'Index', 'before', 'fees', 'and', 'expenses', 'of', 'the', 'Fund', '.', '\\n', 'The', 'Fund', 'may', 'lend', 'securities', 'representing', 'up', 'to', 'one', '-', 'third', 'of', 'the', 'value', 'of', 'the', 'Fund', \"'s\", 'total', 'assets', '(', 'including', 'the', 'value', 'of', 'any', 'collateral', 'received', ')', '.', '\\n', 'The', 'Underlying', 'Index', 'is', 'sponsored', 'by', 'MSCI', 'Inc.', '(', 'the', '“', 'Index', 'Provider', '”', 'or', '“', 'MSCI', '”', ')', ',', 'which', 'is', 'independent', 'of', 'the', 'Fund', 'and', 'BFA', '.', 'The', 'Index', 'Provider', 'determines', 'the', 'composition', 'and', 'relative', 'weightings', 'of', 'the', 'securities', 'in', 'the', 'Underlying', 'Index', 'and', 'publishes', 'information', 'regarding', 'the', 'market', 'value', 'of', 'the', 'Underlying', 'Index', '.']\n"
     ]
    }
   ],
   "source": [
    "tokens = [token.text for token in doc]\n",
    "print(tokens)"
   ]
  },
  {
   "cell_type": "code",
   "execution_count": 12,
   "metadata": {},
   "outputs": [
    {
     "data": {
      "text/plain": [
       "'!\"#$%&\\'()*+,-./:;<=>?@[\\\\]^_`{|}~\\n'"
      ]
     },
     "execution_count": 12,
     "metadata": {},
     "output_type": "execute_result"
    }
   ],
   "source": [
    "punctuation = punctuation + '\\n'\n",
    "punctuation"
   ]
  },
  {
   "cell_type": "code",
   "execution_count": 13,
   "metadata": {},
   "outputs": [
    {
     "name": "stdout",
     "output_type": "stream",
     "text": [
      "{'Fund': 14, 'seeks': 3, 'track': 3, 'investment': 7, 'results': 2, 'MSCI': 3, 'Germany': 1, 'Index': 17, '“': 6, 'Underlying': 14, '”': 6, 'consists': 1, 'stocks': 1, 'traded': 1, 'primarily': 2, 'Frankfurt': 1, 'Stock': 1, 'Exchange': 1, 'include': 2, 'large-': 1, 'mid-': 1, 'small': 1, 'capitalization': 2, 'companies': 4, 'Components': 1, 'consumer': 1, 'discretionary': 1, 'financials': 1, 'healthcare': 1, 'components': 2, 'degree': 1, 'represent': 1, 'certain': 1, 'industries': 1, 'likely': 1, 'change': 1, 'time': 1, 'BFA': 5, 'uses': 2, 'passive': 1, 'indexing': 3, 'approach': 1, 'try': 2, 'achieve': 2, 'objective': 1, 'Unlike': 1, 'beat': 1, 'index': 4, 'tracks': 1, 'seek': 1, 'temporary': 1, 'defensive': 1, 'positions': 1, 'markets': 1, 'decline': 1, 'appear': 1, 'overvalued': 1, 'Indexing': 2, 'eliminate': 1, 'chance': 1, 'substantially': 1, 'outperform': 1, 'reduce': 1, 'risks': 1, 'active': 1, 'management': 1, 'poor': 1, 'security': 1, 'selection': 1, 'lower': 1, 'costs': 1, 'better': 1, 'tax': 1, 'performance': 1, 'keeping': 1, 'portfolio': 1, 'turnover': 1, 'low': 1, 'comparison': 1, 'actively': 1, 'managed': 1, 'representative': 2, 'sampling': 2, 'strategy': 2, 'manage': 1, 'Representative': 1, 'involves': 1, 'investing': 1, 'sample': 1, 'securities': 9, 'collectively': 1, 'profile': 1, 'similar': 2, 'applicable': 3, 'underlying': 3, 'selected': 1, 'expected': 1, 'aggregate': 1, 'characteristics': 2, 'based': 1, 'factors': 1, 'market': 3, 'industry': 1, 'weightings': 2, 'fundamental': 1, 'return': 1, 'variability': 1, 'yield': 1, 'liquidity': 1, 'measures': 1, 'hold': 1, 'times': 1, 'invest': 2, '80': 1, 'assets': 3, 'depositary': 1, 'receipts': 1, 'representing': 2, 'remainder': 1, 'including': 4, 'believes': 1, 'help': 1, 'investments': 1, 'futures': 2, 'contracts': 2, 'options': 2, 'types': 1, 'swaps': 1, 'related': 1, 'cash': 2, 'equivalents': 1, 'shares': 1, 'money': 1, 'funds': 1, 'advised': 1, 'affiliates': 1, 'fees': 1, 'expenses': 1, 'lend': 1, 'value': 3, 'total': 1, 'collateral': 1, 'received': 1, 'sponsored': 1, 'Inc.': 1, 'Provider': 2, 'independent': 1, 'determines': 1, 'composition': 1, 'relative': 1, 'publishes': 1, 'information': 1}\n"
     ]
    }
   ],
   "source": [
    "word_frequencies = {}\n",
    "for word in doc:\n",
    "    if word.text.lower() not in stopwords:\n",
    "        if word.text.lower() not in punctuation:\n",
    "            if word.text not in word_frequencies.keys():\n",
    "                word_frequencies[word.text] = 1\n",
    "            else:\n",
    "                word_frequencies[word.text] += 1\n",
    "                \n",
    "print(word_frequencies)"
   ]
  },
  {
   "cell_type": "code",
   "execution_count": 14,
   "metadata": {},
   "outputs": [
    {
     "data": {
      "text/plain": [
       "17"
      ]
     },
     "execution_count": 14,
     "metadata": {},
     "output_type": "execute_result"
    }
   ],
   "source": [
    "max_frequency = max(word_frequencies.values())\n",
    "max_frequency"
   ]
  },
  {
   "cell_type": "code",
   "execution_count": 15,
   "metadata": {},
   "outputs": [
    {
     "name": "stdout",
     "output_type": "stream",
     "text": [
      "{'Fund': 0.8235294117647058, 'seeks': 0.17647058823529413, 'track': 0.17647058823529413, 'investment': 0.4117647058823529, 'results': 0.11764705882352941, 'MSCI': 0.17647058823529413, 'Germany': 0.058823529411764705, 'Index': 1.0, '“': 0.35294117647058826, 'Underlying': 0.8235294117647058, '”': 0.35294117647058826, 'consists': 0.058823529411764705, 'stocks': 0.058823529411764705, 'traded': 0.058823529411764705, 'primarily': 0.11764705882352941, 'Frankfurt': 0.058823529411764705, 'Stock': 0.058823529411764705, 'Exchange': 0.058823529411764705, 'include': 0.11764705882352941, 'large-': 0.058823529411764705, 'mid-': 0.058823529411764705, 'small': 0.058823529411764705, 'capitalization': 0.11764705882352941, 'companies': 0.23529411764705882, 'Components': 0.058823529411764705, 'consumer': 0.058823529411764705, 'discretionary': 0.058823529411764705, 'financials': 0.058823529411764705, 'healthcare': 0.058823529411764705, 'components': 0.11764705882352941, 'degree': 0.058823529411764705, 'represent': 0.058823529411764705, 'certain': 0.058823529411764705, 'industries': 0.058823529411764705, 'likely': 0.058823529411764705, 'change': 0.058823529411764705, 'time': 0.058823529411764705, 'BFA': 0.29411764705882354, 'uses': 0.11764705882352941, 'passive': 0.058823529411764705, 'indexing': 0.17647058823529413, 'approach': 0.058823529411764705, 'try': 0.11764705882352941, 'achieve': 0.11764705882352941, 'objective': 0.058823529411764705, 'Unlike': 0.058823529411764705, 'beat': 0.058823529411764705, 'index': 0.23529411764705882, 'tracks': 0.058823529411764705, 'seek': 0.058823529411764705, 'temporary': 0.058823529411764705, 'defensive': 0.058823529411764705, 'positions': 0.058823529411764705, 'markets': 0.058823529411764705, 'decline': 0.058823529411764705, 'appear': 0.058823529411764705, 'overvalued': 0.058823529411764705, 'Indexing': 0.11764705882352941, 'eliminate': 0.058823529411764705, 'chance': 0.058823529411764705, 'substantially': 0.058823529411764705, 'outperform': 0.058823529411764705, 'reduce': 0.058823529411764705, 'risks': 0.058823529411764705, 'active': 0.058823529411764705, 'management': 0.058823529411764705, 'poor': 0.058823529411764705, 'security': 0.058823529411764705, 'selection': 0.058823529411764705, 'lower': 0.058823529411764705, 'costs': 0.058823529411764705, 'better': 0.058823529411764705, 'tax': 0.058823529411764705, 'performance': 0.058823529411764705, 'keeping': 0.058823529411764705, 'portfolio': 0.058823529411764705, 'turnover': 0.058823529411764705, 'low': 0.058823529411764705, 'comparison': 0.058823529411764705, 'actively': 0.058823529411764705, 'managed': 0.058823529411764705, 'representative': 0.11764705882352941, 'sampling': 0.11764705882352941, 'strategy': 0.11764705882352941, 'manage': 0.058823529411764705, 'Representative': 0.058823529411764705, 'involves': 0.058823529411764705, 'investing': 0.058823529411764705, 'sample': 0.058823529411764705, 'securities': 0.5294117647058824, 'collectively': 0.058823529411764705, 'profile': 0.058823529411764705, 'similar': 0.11764705882352941, 'applicable': 0.17647058823529413, 'underlying': 0.17647058823529413, 'selected': 0.058823529411764705, 'expected': 0.058823529411764705, 'aggregate': 0.058823529411764705, 'characteristics': 0.11764705882352941, 'based': 0.058823529411764705, 'factors': 0.058823529411764705, 'market': 0.17647058823529413, 'industry': 0.058823529411764705, 'weightings': 0.11764705882352941, 'fundamental': 0.058823529411764705, 'return': 0.058823529411764705, 'variability': 0.058823529411764705, 'yield': 0.058823529411764705, 'liquidity': 0.058823529411764705, 'measures': 0.058823529411764705, 'hold': 0.058823529411764705, 'times': 0.058823529411764705, 'invest': 0.11764705882352941, '80': 0.058823529411764705, 'assets': 0.17647058823529413, 'depositary': 0.058823529411764705, 'receipts': 0.058823529411764705, 'representing': 0.11764705882352941, 'remainder': 0.058823529411764705, 'including': 0.23529411764705882, 'believes': 0.058823529411764705, 'help': 0.058823529411764705, 'investments': 0.058823529411764705, 'futures': 0.11764705882352941, 'contracts': 0.11764705882352941, 'options': 0.11764705882352941, 'types': 0.058823529411764705, 'swaps': 0.058823529411764705, 'related': 0.058823529411764705, 'cash': 0.11764705882352941, 'equivalents': 0.058823529411764705, 'shares': 0.058823529411764705, 'money': 0.058823529411764705, 'funds': 0.058823529411764705, 'advised': 0.058823529411764705, 'affiliates': 0.058823529411764705, 'fees': 0.058823529411764705, 'expenses': 0.058823529411764705, 'lend': 0.058823529411764705, 'value': 0.17647058823529413, 'total': 0.058823529411764705, 'collateral': 0.058823529411764705, 'received': 0.058823529411764705, 'sponsored': 0.058823529411764705, 'Inc.': 0.058823529411764705, 'Provider': 0.11764705882352941, 'independent': 0.058823529411764705, 'determines': 0.058823529411764705, 'composition': 0.058823529411764705, 'relative': 0.058823529411764705, 'publishes': 0.058823529411764705, 'information': 0.058823529411764705}\n"
     ]
    }
   ],
   "source": [
    "for word in word_frequencies.keys():\n",
    "    word_frequencies[word] = word_frequencies[word]/max_frequency\n",
    "\n",
    "print(word_frequencies)"
   ]
  },
  {
   "cell_type": "code",
   "execution_count": 16,
   "metadata": {},
   "outputs": [
    {
     "name": "stdout",
     "output_type": "stream",
     "text": [
      "[The Fund seeks to track the investment results of the MSCI Germany Index (the “Underlying Index”), which consists of stocks traded primarily on the Frankfurt Stock Exchange., The Underlying Index may include large-, mid- or small-capitalization companies., Components of the Underlying Index primarily include consumer discretionary, financials and healthcare companies., The components of the Underlying Index, and the degree to which these components represent certain industries, are likely to change over time., \n",
      ", BFA uses a “passive” or indexing approach to try to achieve the Fund’s investment objective., Unlike many investment companies, the Fund does not try to “beat” the index it tracks and does not seek temporary defensive positions when markets decline or appear overvalued., \n",
      ", Indexing may eliminate the chance that the Fund will substantially outperform the Underlying Index but also may reduce some of the risks of active management, such as poor security selection., Indexing seeks to achieve\n",
      "lower costs and better after-tax performance by keeping portfolio turnover low in comparison to actively managed investment companies., \n",
      ", BFA uses a representative sampling indexing strategy to manage the Fund., “Representative sampling” is an indexing strategy that involves investing in a representative sample of securities that collectively has an investment profile similar to that of an applicable underlying index., The securities selected are expected to have, in the aggregate, investment characteristics (based on factors such as market capitalization and industry weightings), fundamental characteristics (such as return variability and yield) and liquidity measures similar to those of an applicable underlying index., The Fund may or may not hold all of the securities in an applicable underlying index., \n",
      ", The Fund will at all times invest at least 80% of its assets in the securities of its Underlying Index and in depositary receipts representing securities in its Underlying Index., The Fund may invest the remainder of its assets in other securities, including securities not in the Underlying Index, but which BFA believes will help the Fund track the Underlying Index, and in other investments, including futures contracts, options on futures contracts, other types of options and swaps related to its Underlying Index, as well as cash and cash equivalents, including shares of money market funds advised by BFA or its affiliates., The Fund seeks to track the investment results of the Underlying Index before fees and expenses of the Fund., \n",
      ", The Fund may lend securities representing up to one-third of the value of the Fund's total assets (including the value of any collateral received)., \n",
      ", The Underlying Index is sponsored by MSCI Inc. (the “Index Provider” or “MSCI”), which is independent of the Fund and BFA., The Index Provider determines the composition and relative weightings of the securities in the Underlying Index and publishes information regarding the market value of the Underlying Index.]\n"
     ]
    }
   ],
   "source": [
    "sentence_tokens = [sent for sent in doc.sents]\n",
    "print(sentence_tokens)"
   ]
  },
  {
   "cell_type": "code",
   "execution_count": 17,
   "metadata": {},
   "outputs": [
    {
     "data": {
      "text/plain": [
       "{The Fund seeks to track the investment results of the MSCI Germany Index (the “Underlying Index”), which consists of stocks traded primarily on the Frankfurt Stock Exchange.: 2.529411764705882,\n",
       " The Underlying Index may include large-, mid- or small-capitalization companies.: 1.0588235294117647,\n",
       " Components of the Underlying Index primarily include consumer discretionary, financials and healthcare companies.: 1.2352941176470589,\n",
       " The components of the Underlying Index, and the degree to which these components represent certain industries, are likely to change over time.: 1.0588235294117647,\n",
       " BFA uses a “passive” or indexing approach to try to achieve the Fund’s investment objective.: 1.8235294117647058,\n",
       " Unlike many investment companies, the Fund does not try to “beat” the index it tracks and does not seek temporary defensive positions when markets decline or appear overvalued.: 2.2941176470588225,\n",
       " Indexing may eliminate the chance that the Fund will substantially outperform the Underlying Index but also may reduce some of the risks of active management, such as poor security selection.: 1.2352941176470589,\n",
       " Indexing seeks to achieve\n",
       " lower costs and better after-tax performance by keeping portfolio turnover low in comparison to actively managed investment companies.: 1.823529411764706,\n",
       " BFA uses a representative sampling indexing strategy to manage the Fund.: 0.7058823529411765,\n",
       " “Representative sampling” is an indexing strategy that involves investing in a representative sample of securities that collectively has an investment profile similar to that of an applicable underlying index.: 3.294117647058823,\n",
       " The securities selected are expected to have, in the aggregate, investment characteristics (based on factors such as market capitalization and industry weightings), fundamental characteristics (such as return variability and yield) and liquidity measures similar to those of an applicable underlying index.: 2.9999999999999987,\n",
       " The Fund may or may not hold all of the securities in an applicable underlying index.: 1.1764705882352942,\n",
       " The Fund will at all times invest at least 80% of its assets in the securities of its Underlying Index and in depositary receipts representing securities in its Underlying Index.: 2.5294117647058822,\n",
       " The Fund may invest the remainder of its assets in other securities, including securities not in the Underlying Index, but which BFA believes will help the Fund track the Underlying Index, and in other investments, including futures contracts, options on futures contracts, other types of options and swaps related to its Underlying Index, as well as cash and cash equivalents, including shares of money market funds advised by BFA or its affiliates.: 5.352941176470585,\n",
       " The Fund seeks to track the investment results of the Underlying Index before fees and expenses of the Fund.: 1.411764705882353,\n",
       " The Fund may lend securities representing up to one-third of the value of the Fund's total assets (including the value of any collateral received).: 1.647058823529412,\n",
       " The Underlying Index is sponsored by MSCI Inc. (the “Index Provider” or “MSCI”), which is independent of the Fund and BFA.: 2.176470588235294,\n",
       " The Index Provider determines the composition and relative weightings of the securities in the Underlying Index and publishes information regarding the market value of the Underlying Index.: 2.3529411764705883}"
      ]
     },
     "execution_count": 17,
     "metadata": {},
     "output_type": "execute_result"
    }
   ],
   "source": [
    "sentence_scores = {}\n",
    "for sent in sentence_tokens:\n",
    "    for word in sent:\n",
    "        if word.text.lower() in word_frequencies.keys():\n",
    "            if sent not in sentence_scores.keys():\n",
    "                sentence_scores[sent] = word_frequencies[word.text.lower()]\n",
    "            else:\n",
    "                sentence_scores[sent] += word_frequencies[word.text.lower()]\n",
    "                \n",
    "sentence_scores"
   ]
  },
  {
   "cell_type": "code",
   "execution_count": 18,
   "metadata": {},
   "outputs": [],
   "source": [
    "from heapq import nlargest"
   ]
  },
  {
   "cell_type": "code",
   "execution_count": 26,
   "metadata": {},
   "outputs": [
    {
     "data": {
      "text/plain": [
       "4"
      ]
     },
     "execution_count": 26,
     "metadata": {},
     "output_type": "execute_result"
    }
   ],
   "source": [
    "select_length = int(len(sentence_tokens)*0.2)\n",
    "select_length"
   ]
  },
  {
   "cell_type": "code",
   "execution_count": 27,
   "metadata": {},
   "outputs": [
    {
     "data": {
      "text/plain": [
       "[The Fund may invest the remainder of its assets in other securities, including securities not in the Underlying Index, but which BFA believes will help the Fund track the Underlying Index, and in other investments, including futures contracts, options on futures contracts, other types of options and swaps related to its Underlying Index, as well as cash and cash equivalents, including shares of money market funds advised by BFA or its affiliates.,\n",
       " “Representative sampling” is an indexing strategy that involves investing in a representative sample of securities that collectively has an investment profile similar to that of an applicable underlying index.,\n",
       " The securities selected are expected to have, in the aggregate, investment characteristics (based on factors such as market capitalization and industry weightings), fundamental characteristics (such as return variability and yield) and liquidity measures similar to those of an applicable underlying index.,\n",
       " The Fund will at all times invest at least 80% of its assets in the securities of its Underlying Index and in depositary receipts representing securities in its Underlying Index.]"
      ]
     },
     "execution_count": 27,
     "metadata": {},
     "output_type": "execute_result"
    }
   ],
   "source": [
    "summary = nlargest(select_length, sentence_scores, key = sentence_scores.get)\n",
    "summary"
   ]
  },
  {
   "cell_type": "code",
   "execution_count": 28,
   "metadata": {},
   "outputs": [],
   "source": [
    "final_summary = [word.text for word in summary]\n",
    "summary = ' '.join(final_summary)"
   ]
  },
  {
   "cell_type": "code",
   "execution_count": 29,
   "metadata": {},
   "outputs": [
    {
     "name": "stdout",
     "output_type": "stream",
     "text": [
      "The Fund may invest the remainder of its assets in other securities, including securities not in the Underlying Index, but which BFA believes will help the Fund track the Underlying Index, and in other investments, including futures contracts, options on futures contracts, other types of options and swaps related to its Underlying Index, as well as cash and cash equivalents, including shares of money market funds advised by BFA or its affiliates. “Representative sampling” is an indexing strategy that involves investing in a representative sample of securities that collectively has an investment profile similar to that of an applicable underlying index. The securities selected are expected to have, in the aggregate, investment characteristics (based on factors such as market capitalization and industry weightings), fundamental characteristics (such as return variability and yield) and liquidity measures similar to those of an applicable underlying index. The Fund will at all times invest at least 80% of its assets in the securities of its Underlying Index and in depositary receipts representing securities in its Underlying Index.\n"
     ]
    }
   ],
   "source": [
    "print(summary)"
   ]
  },
  {
   "cell_type": "code",
   "execution_count": 30,
   "metadata": {},
   "outputs": [
    {
     "data": {
      "text/plain": [
       "3010"
      ]
     },
     "execution_count": 30,
     "metadata": {},
     "output_type": "execute_result"
    }
   ],
   "source": [
    "len(data[0])"
   ]
  },
  {
   "cell_type": "code",
   "execution_count": 31,
   "metadata": {},
   "outputs": [
    {
     "data": {
      "text/plain": [
       "1146"
      ]
     },
     "execution_count": 31,
     "metadata": {},
     "output_type": "execute_result"
    }
   ],
   "source": [
    "len(summary)"
   ]
  },
  {
   "cell_type": "code",
   "execution_count": null,
   "metadata": {},
   "outputs": [],
   "source": []
  }
 ],
 "metadata": {
  "kernelspec": {
   "display_name": "Python 3",
   "language": "python",
   "name": "python3"
  },
  "language_info": {
   "codemirror_mode": {
    "name": "ipython",
    "version": 3
   },
   "file_extension": ".py",
   "mimetype": "text/x-python",
   "name": "python",
   "nbconvert_exporter": "python",
   "pygments_lexer": "ipython3",
   "version": "3.7.4"
  }
 },
 "nbformat": 4,
 "nbformat_minor": 2
}
